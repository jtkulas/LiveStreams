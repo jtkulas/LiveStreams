{
  "cells": [
    {
      "cell_type": "markdown",
      "metadata": {},
      "source": [
        "# example\n",
        "\n",
        "## Quarto\n",
        "\n",
        "Quarto enables you to weave together content and executable code into a\n",
        "finished document. To learn more about Quarto see <https://quarto.org>.\n",
        "\n",
        "## Running Code\n",
        "\n",
        "When you click the **Render** button a document will be generated that\n",
        "includes both content and the output of embedded code. You can embed\n",
        "code like this:"
      ],
      "id": "045aa9bb-bb5c-4333-acbf-e89623d935b1"
    },
    {
      "cell_type": "code",
      "execution_count": null,
      "metadata": {},
      "outputs": [
        {
          "output_type": "stream",
          "name": "stdout",
          "text": [
            "[1] 2"
          ]
        }
      ],
      "source": [
        "#| label: numbers\n",
        "1 + 1"
      ],
      "id": "6984ff0f-8b44-435c-8c7c-a80c419a6556"
    },
    {
      "cell_type": "markdown",
      "metadata": {},
      "source": [
        "You can add options to executable code like this"
      ],
      "id": "c8f2398a-8827-40b3-a982-9c52c7fb0033"
    },
    {
      "cell_type": "code",
      "execution_count": null,
      "metadata": {},
      "outputs": [
        {
          "output_type": "stream",
          "name": "stdout",
          "text": [
            "[1] 4"
          ]
        }
      ],
      "source": [],
      "id": "a13e47d5-8321-4a59-9447-d4db59f23cb5"
    },
    {
      "cell_type": "markdown",
      "metadata": {},
      "source": [
        "The `echo: false` option disables the printing of code (only output is\n",
        "displayed)."
      ],
      "id": "5f416a06-2a9e-459e-abf1-bdbf0682f93a"
    }
  ],
  "nbformat": 4,
  "nbformat_minor": 5,
  "metadata": {
    "kernelspec": {
      "display_name": "Python 3",
      "language": "python",
      "name": "python3"
    }
  }
}